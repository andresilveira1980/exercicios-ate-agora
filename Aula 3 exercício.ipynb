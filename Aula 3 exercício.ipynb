{
 "cells": [
  {
   "cell_type": "markdown",
   "id": "d347ed4f-110c-425d-902e-f8c575677e18",
   "metadata": {},
   "source": [
    "Mão na massa"
   ]
  },
  {
   "cell_type": "code",
   "execution_count": 1,
   "id": "252e735c-4854-4af4-b0d7-4caf2afb718e",
   "metadata": {},
   "outputs": [
    {
     "ename": "ValueError",
     "evalue": "invalid literal for int() with base 10: ''",
     "output_type": "error",
     "traceback": [
      "\u001b[1;31m---------------------------------------------------------------------------\u001b[0m",
      "\u001b[1;31mValueError\u001b[0m                                Traceback (most recent call last)",
      "Cell \u001b[1;32mIn[1], line 2\u001b[0m\n\u001b[0;32m      1\u001b[0m \u001b[38;5;66;03m#Exercício 1\u001b[39;00m\n\u001b[1;32m----> 2\u001b[0m numero\u001b[38;5;241m=\u001b[39m\u001b[38;5;28;43mint\u001b[39;49m\u001b[43m(\u001b[49m\u001b[38;5;28;43minput\u001b[39;49m\u001b[43m(\u001b[49m\u001b[38;5;124;43m'\u001b[39;49m\u001b[38;5;124;43mInsira um número inteiro: \u001b[39;49m\u001b[38;5;124;43m'\u001b[39;49m\u001b[43m)\u001b[49m\u001b[43m)\u001b[49m\n\u001b[0;32m      3\u001b[0m \u001b[38;5;28;01mif\u001b[39;00m numero\u001b[38;5;241m%\u001b[39m\u001b[38;5;241m2\u001b[39m\u001b[38;5;241m==\u001b[39m\u001b[38;5;241m0\u001b[39m: \u001b[38;5;28mprint\u001b[39m(\u001b[38;5;124m'\u001b[39m\u001b[38;5;124mO número \u001b[39m\u001b[38;5;124m'\u001b[39m,numero,\u001b[38;5;124m'\u001b[39m\u001b[38;5;124m é par!\u001b[39m\u001b[38;5;124m'\u001b[39m\u001b[38;5;241m.\u001b[39mformat(numero))\n\u001b[0;32m      4\u001b[0m \u001b[38;5;28;01melse\u001b[39;00m: \u001b[38;5;28mprint\u001b[39m(\u001b[38;5;124mf\u001b[39m\u001b[38;5;124m'\u001b[39m\u001b[38;5;124mO número \u001b[39m\u001b[38;5;132;01m{\u001b[39;00mnumero\u001b[38;5;132;01m}\u001b[39;00m\u001b[38;5;124m é impar!\u001b[39m\u001b[38;5;124m'\u001b[39m)\n",
      "\u001b[1;31mValueError\u001b[0m: invalid literal for int() with base 10: ''"
     ]
    }
   ],
   "source": [
    "#Exercício 1\n",
    "numero=int(input('Insira um número inteiro: '))\n",
    "if numero%2==0: print('O número ',numero,' é par!'.format(numero))\n",
    "else: print(f'O número {numero} é impar!')"
   ]
  },
  {
   "cell_type": "code",
   "execution_count": null,
   "id": "ff1c5316-a335-49b3-8057-fc8a45551617",
   "metadata": {},
   "outputs": [
    {
     "name": "stdout",
     "output_type": "stream",
     "text": [
      "Ser ou nao ser, eis a questão\n",
      "Ser  -  3\n",
      "ou  -  2\n",
      "nao  -  3\n",
      "ser,  -  4\n",
      "eis  -  3\n",
      "a  -  1\n",
      "questão  -  7\n"
     ]
    }
   ],
   "source": [
    "#Exercício 2\n",
    "frase=input('Digite uma frase: ')\n",
    "palavras=frase.split(' ')\n",
    "print(frase)\n",
    "for i in palavras:\n",
    "    print(i, ' - ', len(i))"
   ]
  },
  {
   "cell_type": "code",
   "execution_count": null,
   "id": "dcd34d80-9abb-4a38-a561-135ad98ac8f3",
   "metadata": {},
   "outputs": [
    {
     "name": "stdout",
     "output_type": "stream",
     "text": [
      "Senha incorreta! \n",
      " Tenete novamente.\n",
      "Senha incorreta! \n",
      " Tenete novamente.\n",
      "Senha correta!\n"
     ]
    }
   ],
   "source": [
    "#Exercício 3\n",
    "senha='1234'\n",
    "while True:\n",
    "    senha_informada=input('Digite uma senha de 4 digitos: ')\n",
    "    if(senha_informada!=senha): print('Senha incorreta!\\nTenete novamente.')\n",
    "    else:\n",
    "        print('Senha correta!')\n",
    "        break"
   ]
  },
  {
   "cell_type": "code",
   "execution_count": null,
   "id": "0ff8f90f-6e1f-42b7-88e8-edd56d0c8114",
   "metadata": {},
   "outputs": [
    {
     "name": "stdout",
     "output_type": "stream",
     "text": [
      "120\n"
     ]
    }
   ],
   "source": [
    "#Exercício 4\n",
    "n=int(input('Digite um número inteiro: '))\n",
    "produto=1\n",
    "for i in range(1,n+1):\n",
    "    produto*=i\n",
    "if n==0:produto=1\n",
    "print(produto)"
   ]
  },
  {
   "cell_type": "code",
   "execution_count": null,
   "id": "4042e291-64b1-447b-8eb8-26dcb8ba1534",
   "metadata": {},
   "outputs": [
    {
     "name": "stdout",
     "output_type": "stream",
     "text": [
      "Janeiro \t 232\n",
      "Fevereiro \t 321\n",
      "Junho \t 589\n",
      "Julho \t 547\n"
     ]
    }
   ],
   "source": [
    "#Exercício 5\n",
    "dicionario={'Janeiro':232, 'Fevereiro':321, 'Junho':589, 'Julho':547}\n",
    "for k in dicionario:\n",
    "    print(k, '\\t', dicionario[k])"
   ]
  },
  {
   "cell_type": "code",
   "execution_count": null,
   "id": "2b3c618e",
   "metadata": {},
   "outputs": [],
   "source": []
  }
 ],
 "metadata": {
  "kernelspec": {
   "display_name": "Python 3",
   "language": "python",
   "name": "python3"
  },
  "language_info": {
   "codemirror_mode": {
    "name": "ipython",
    "version": 3
   },
   "file_extension": ".py",
   "mimetype": "text/x-python",
   "name": "python",
   "nbconvert_exporter": "python",
   "pygments_lexer": "ipython3",
   "version": "3.12.3"
  }
 },
 "nbformat": 4,
 "nbformat_minor": 5
}
